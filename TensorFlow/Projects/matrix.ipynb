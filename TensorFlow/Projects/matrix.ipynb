{
 "cells": [
  {
   "cell_type": "code",
   "execution_count": 2,
   "id": "initial_id",
   "metadata": {
    "collapsed": true,
    "ExecuteTime": {
     "end_time": "2024-07-26T06:01:40.293566900Z",
     "start_time": "2024-07-26T06:01:40.284227400Z"
    }
   },
   "outputs": [],
   "source": [
    "import  numpy as np"
   ]
  },
  {
   "cell_type": "code",
   "outputs": [],
   "source": [
    "revenue = np.array([[180,90,20,40],[578,23,63,568],[135,364,568,42]])\n",
    "cost = np.array([1000,2000,300])\n",
    "\n",
    "expenses = np.array([[324,45,685,96],[457,74,22,346],[25,64,355,4]])"
   ],
   "metadata": {
    "collapsed": false,
    "ExecuteTime": {
     "end_time": "2024-07-26T06:07:30.413054100Z",
     "start_time": "2024-07-26T06:07:30.394544800Z"
    }
   },
   "id": "db3001f7a6c853ae",
   "execution_count": 12
  },
  {
   "cell_type": "code",
   "outputs": [
    {
     "name": "stdout",
     "output_type": "stream",
     "text": [
      "[[324  45 685  96]\n",
      " [457  74  22 346]\n",
      " [ 25  64 355   4]]\n"
     ]
    }
   ],
   "source": [
    "print(expenses)"
   ],
   "metadata": {
    "collapsed": false,
    "ExecuteTime": {
     "end_time": "2024-07-26T06:04:05.502394500Z",
     "start_time": "2024-07-26T06:04:05.489419600Z"
    }
   },
   "id": "a41a6a9c2e1dcb7c",
   "execution_count": 4
  },
  {
   "cell_type": "code",
   "outputs": [
    {
     "data": {
      "text/plain": "array([[-144,   45, -665,  -56],\n       [ 121,  -51,   41,  222],\n       [ 110,  300,  213,   38]])"
     },
     "execution_count": 5,
     "metadata": {},
     "output_type": "execute_result"
    }
   ],
   "source": [
    "revenue - expenses"
   ],
   "metadata": {
    "collapsed": false,
    "ExecuteTime": {
     "end_time": "2024-07-26T06:04:19.966443800Z",
     "start_time": "2024-07-26T06:04:19.953405900Z"
    }
   },
   "id": "8580dbaa89046dbf",
   "execution_count": 5
  },
  {
   "cell_type": "code",
   "outputs": [
    {
     "data": {
      "text/plain": "array([1376500,  245200,  316400, 1188600])"
     },
     "execution_count": 13,
     "metadata": {},
     "output_type": "execute_result"
    }
   ],
   "source": [
    "np.dot(cost,revenue)"
   ],
   "metadata": {
    "collapsed": false,
    "ExecuteTime": {
     "end_time": "2024-07-26T06:07:33.659957600Z",
     "start_time": "2024-07-26T06:07:33.645235800Z"
    }
   },
   "id": "169636edb40a6839",
   "execution_count": 13
  },
  {
   "cell_type": "code",
   "outputs": [],
   "source": [],
   "metadata": {
    "collapsed": false
   },
   "id": "622c6886bdeee3ef"
  }
 ],
 "metadata": {
  "kernelspec": {
   "display_name": "Python 3",
   "language": "python",
   "name": "python3"
  },
  "language_info": {
   "codemirror_mode": {
    "name": "ipython",
    "version": 2
   },
   "file_extension": ".py",
   "mimetype": "text/x-python",
   "name": "python",
   "nbconvert_exporter": "python",
   "pygments_lexer": "ipython2",
   "version": "2.7.6"
  }
 },
 "nbformat": 4,
 "nbformat_minor": 5
}
